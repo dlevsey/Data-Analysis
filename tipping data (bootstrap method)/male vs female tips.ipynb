{
 "cells": [
  {
   "cell_type": "code",
   "execution_count": 1,
   "id": "68d8729b",
   "metadata": {},
   "outputs": [],
   "source": [
    "import numpy as np\n",
    "import pandas as pd\n",
    "import seaborn as sns\n",
    "import matplotlib.pyplot as plt\n",
    "import sklearn.datasets\n",
    "from sklearn.datasets import load_boston"
   ]
  },
  {
   "cell_type": "code",
   "execution_count": 2,
   "id": "d43654b0",
   "metadata": {},
   "outputs": [],
   "source": [
    "tips = sns.load_dataset('tips')\n",
    "tips\n",
    "\n",
    "#Men tips data\n",
    "men = tips[tips[\"sex\"] == \"Male\"][\"tip\"]\n",
    "\n",
    "\n",
    "#Female tips data\n",
    "female = tips[tips[\"sex\"] == \"Female\"][\"tip\"]"
   ]
  },
  {
   "cell_type": "code",
   "execution_count": 3,
   "id": "9b7a03fa",
   "metadata": {},
   "outputs": [
    {
     "data": {
      "text/html": [
       "<div>\n",
       "<style scoped>\n",
       "    .dataframe tbody tr th:only-of-type {\n",
       "        vertical-align: middle;\n",
       "    }\n",
       "\n",
       "    .dataframe tbody tr th {\n",
       "        vertical-align: top;\n",
       "    }\n",
       "\n",
       "    .dataframe thead th {\n",
       "        text-align: right;\n",
       "    }\n",
       "</style>\n",
       "<table border=\"1\" class=\"dataframe\">\n",
       "  <thead>\n",
       "    <tr style=\"text-align: right;\">\n",
       "      <th></th>\n",
       "      <th>total_bill</th>\n",
       "      <th>tip</th>\n",
       "      <th>sex</th>\n",
       "      <th>smoker</th>\n",
       "      <th>day</th>\n",
       "      <th>time</th>\n",
       "      <th>size</th>\n",
       "    </tr>\n",
       "  </thead>\n",
       "  <tbody>\n",
       "    <tr>\n",
       "      <th>0</th>\n",
       "      <td>16.99</td>\n",
       "      <td>1.01</td>\n",
       "      <td>Female</td>\n",
       "      <td>No</td>\n",
       "      <td>Sun</td>\n",
       "      <td>Dinner</td>\n",
       "      <td>2</td>\n",
       "    </tr>\n",
       "    <tr>\n",
       "      <th>1</th>\n",
       "      <td>10.34</td>\n",
       "      <td>1.66</td>\n",
       "      <td>Male</td>\n",
       "      <td>No</td>\n",
       "      <td>Sun</td>\n",
       "      <td>Dinner</td>\n",
       "      <td>3</td>\n",
       "    </tr>\n",
       "    <tr>\n",
       "      <th>2</th>\n",
       "      <td>21.01</td>\n",
       "      <td>3.50</td>\n",
       "      <td>Male</td>\n",
       "      <td>No</td>\n",
       "      <td>Sun</td>\n",
       "      <td>Dinner</td>\n",
       "      <td>3</td>\n",
       "    </tr>\n",
       "    <tr>\n",
       "      <th>3</th>\n",
       "      <td>23.68</td>\n",
       "      <td>3.31</td>\n",
       "      <td>Male</td>\n",
       "      <td>No</td>\n",
       "      <td>Sun</td>\n",
       "      <td>Dinner</td>\n",
       "      <td>2</td>\n",
       "    </tr>\n",
       "    <tr>\n",
       "      <th>4</th>\n",
       "      <td>24.59</td>\n",
       "      <td>3.61</td>\n",
       "      <td>Female</td>\n",
       "      <td>No</td>\n",
       "      <td>Sun</td>\n",
       "      <td>Dinner</td>\n",
       "      <td>4</td>\n",
       "    </tr>\n",
       "    <tr>\n",
       "      <th>...</th>\n",
       "      <td>...</td>\n",
       "      <td>...</td>\n",
       "      <td>...</td>\n",
       "      <td>...</td>\n",
       "      <td>...</td>\n",
       "      <td>...</td>\n",
       "      <td>...</td>\n",
       "    </tr>\n",
       "    <tr>\n",
       "      <th>239</th>\n",
       "      <td>29.03</td>\n",
       "      <td>5.92</td>\n",
       "      <td>Male</td>\n",
       "      <td>No</td>\n",
       "      <td>Sat</td>\n",
       "      <td>Dinner</td>\n",
       "      <td>3</td>\n",
       "    </tr>\n",
       "    <tr>\n",
       "      <th>240</th>\n",
       "      <td>27.18</td>\n",
       "      <td>2.00</td>\n",
       "      <td>Female</td>\n",
       "      <td>Yes</td>\n",
       "      <td>Sat</td>\n",
       "      <td>Dinner</td>\n",
       "      <td>2</td>\n",
       "    </tr>\n",
       "    <tr>\n",
       "      <th>241</th>\n",
       "      <td>22.67</td>\n",
       "      <td>2.00</td>\n",
       "      <td>Male</td>\n",
       "      <td>Yes</td>\n",
       "      <td>Sat</td>\n",
       "      <td>Dinner</td>\n",
       "      <td>2</td>\n",
       "    </tr>\n",
       "    <tr>\n",
       "      <th>242</th>\n",
       "      <td>17.82</td>\n",
       "      <td>1.75</td>\n",
       "      <td>Male</td>\n",
       "      <td>No</td>\n",
       "      <td>Sat</td>\n",
       "      <td>Dinner</td>\n",
       "      <td>2</td>\n",
       "    </tr>\n",
       "    <tr>\n",
       "      <th>243</th>\n",
       "      <td>18.78</td>\n",
       "      <td>3.00</td>\n",
       "      <td>Female</td>\n",
       "      <td>No</td>\n",
       "      <td>Thur</td>\n",
       "      <td>Dinner</td>\n",
       "      <td>2</td>\n",
       "    </tr>\n",
       "  </tbody>\n",
       "</table>\n",
       "<p>244 rows × 7 columns</p>\n",
       "</div>"
      ],
      "text/plain": [
       "     total_bill   tip     sex smoker   day    time  size\n",
       "0         16.99  1.01  Female     No   Sun  Dinner     2\n",
       "1         10.34  1.66    Male     No   Sun  Dinner     3\n",
       "2         21.01  3.50    Male     No   Sun  Dinner     3\n",
       "3         23.68  3.31    Male     No   Sun  Dinner     2\n",
       "4         24.59  3.61  Female     No   Sun  Dinner     4\n",
       "..          ...   ...     ...    ...   ...     ...   ...\n",
       "239       29.03  5.92    Male     No   Sat  Dinner     3\n",
       "240       27.18  2.00  Female    Yes   Sat  Dinner     2\n",
       "241       22.67  2.00    Male    Yes   Sat  Dinner     2\n",
       "242       17.82  1.75    Male     No   Sat  Dinner     2\n",
       "243       18.78  3.00  Female     No  Thur  Dinner     2\n",
       "\n",
       "[244 rows x 7 columns]"
      ]
     },
     "execution_count": 3,
     "metadata": {},
     "output_type": "execute_result"
    }
   ],
   "source": [
    "tips"
   ]
  },
  {
   "cell_type": "markdown",
   "id": "42f400d8",
   "metadata": {},
   "source": [
    "#### male tips"
   ]
  },
  {
   "cell_type": "code",
   "execution_count": null,
   "id": "a39fe134",
   "metadata": {},
   "outputs": [],
   "source": [
    "\n",
    "# Traditional bootstrap for men tips\n",
    "n_samples = 10000\n",
    "\n",
    "bootstrap_means = np.array([men.sample(len(men), replace= True).mean() for _ in range(n_samples)])\n",
    "\n",
    "\n",
    "# Plot histogram\n",
    "sns.histplot(bootstrap_means, kde=True)\n",
    "plt.axvline(men.mean(), color=\"green\", linestyle=\"--\", linewidth=1)\n",
    "plt.axvline(bootstrap_means.mean(), color=\"red\", linestyle=\"--\", linewidth=1)\n",
    "plt.show()\n"
   ]
  },
  {
   "cell_type": "code",
   "execution_count": null,
   "id": "96ed6968",
   "metadata": {},
   "outputs": [],
   "source": [
    "# Bootstrap percentile interval\n",
    "def percentile_interval(bootstrap_dist, loc=0.9):\n",
    "    lower_limit = np.percentile(bootstrap_dist, (1 - loc) * 50)\n",
    "    upper_limit = np.percentile(bootstrap_dist, 100 - (1 - loc) * 50)\n",
    "    return lower_limit, upper_limit"
   ]
  },
  {
   "cell_type": "code",
   "execution_count": null,
   "id": "d97571c5",
   "metadata": {},
   "outputs": [],
   "source": [
    "print(percentile_interval(bootstrap_means, loc=0.9))"
   ]
  },
  {
   "cell_type": "code",
   "execution_count": null,
   "id": "6e8a433e",
   "metadata": {},
   "outputs": [],
   "source": [
    "# Kernel density estimate\n",
    "sns.histplot(men, kde=True, kde_kws={\"bw_adjust\": men.std() / np.sqrt(len(men))})\n",
    "plt.show()\n"
   ]
  },
  {
   "cell_type": "markdown",
   "id": "b67d475b",
   "metadata": {},
   "source": [
    "#### female tips"
   ]
  },
  {
   "cell_type": "code",
   "execution_count": null,
   "id": "62c71e80",
   "metadata": {},
   "outputs": [],
   "source": [
    "\n",
    "# Traditional bootstrap for female tips\n",
    "n_samples = 10000\n",
    "\n",
    "bootstrap_means_female = np.array([female.sample(len(female), replace= True).mean() for _ in range(n_samples)])\n",
    "\n",
    "\n",
    "# Plot histogram\n",
    "sns.histplot(bootstrap_means_female, kde=True)\n",
    "plt.axvline(female.mean(), color=\"green\", linestyle=\"--\", linewidth=1)\n",
    "plt.axvline(bootstrap_means_female.mean(), color=\"red\", linestyle=\"--\", linewidth=1)\n",
    "plt.show()"
   ]
  },
  {
   "cell_type": "code",
   "execution_count": null,
   "id": "eb45fb20",
   "metadata": {},
   "outputs": [],
   "source": [
    "print(percentile_interval(bootstrap_means_female, loc=0.9))"
   ]
  },
  {
   "cell_type": "code",
   "execution_count": null,
   "id": "58e6a8b5",
   "metadata": {},
   "outputs": [],
   "source": [
    "# Smoothed bootstrap for female tips\n",
    "smoothed_bootstrap_q1 = []\n",
    "for _ in range(n_samples):\n",
    "    bootstrap_sample = female.sample(len(female), replace=True)\n",
    "    random_noise = np.random.normal(loc=0, scale=female.std() / np.sqrt(len(female)), size=len(female))\n",
    "    smoothed_bootstrap_q1.append(first_quartile(bootstrap_sample + random_noise))\n",
    "smoothed_bootstrap_q1 = np.array(smoothed_bootstrap_q1)\n",
    "\n",
    "# Plot histogram\n",
    "sns.histplot(smoothed_bootstrap_q1,kde=True)\n",
    "plt.axvline(first_quartile(female), color=\"red\", linestyle=\"--\", linewidth=1.5)\n",
    "plt.axvline(smoothed_bootstrap_q1.mean(), color=\"limegreen\", linestyle=\"--\", linewidth=1.5)\n",
    "plt.show()"
   ]
  },
  {
   "cell_type": "code",
   "execution_count": null,
   "id": "bd44a89d",
   "metadata": {},
   "outputs": [],
   "source": [
    "# Kernel density estimate\n",
    "sns.histplot(men, kde=True, kde_kws={\"bw_adjust\": female.std() / np.sqrt(len(female))})\n",
    "plt.show()"
   ]
  }
 ],
 "metadata": {
  "kernelspec": {
   "display_name": "Python 3 (ipykernel)",
   "language": "python",
   "name": "python3"
  },
  "language_info": {
   "codemirror_mode": {
    "name": "ipython",
    "version": 3
   },
   "file_extension": ".py",
   "mimetype": "text/x-python",
   "name": "python",
   "nbconvert_exporter": "python",
   "pygments_lexer": "ipython3",
   "version": "3.9.13"
  }
 },
 "nbformat": 4,
 "nbformat_minor": 5
}
